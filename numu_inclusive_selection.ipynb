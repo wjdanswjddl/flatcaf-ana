{
 "cells": [
  {
   "cell_type": "markdown",
   "metadata": {},
   "source": [
    "# $\\nu_{\\mu}$ CC inclusive selection"
   ]
  },
  {
   "cell_type": "code",
   "execution_count": 1,
   "metadata": {},
   "outputs": [],
   "source": [
    "import uproot as uproot\n",
    "import numpy as np\n",
    "import pandas as pd\n",
    "import math\n",
    "\n",
    "import matplotlib.pyplot as plt\n",
    "import matplotlib.colors\n",
    "from matplotlib.colors import LinearSegmentedColormap\n",
    "from matplotlib import ticker\n",
    "from matplotlib.ticker import (AutoMinorLocator, MultipleLocator)\n",
    "from matplotlib import gridspec\n",
    "plt.style.use('./presentation.mplstyle')\n",
    "\n",
    "from scipy.stats import norm\n",
    "from scipy.interpolate import CubicSpline\n",
    "from scipy.optimize import curve_fit\n",
    "import scipy.linalg as la\n",
    "import scipy.optimize as opt\n",
    "from scipy.optimize import Bounds, LinearConstraint\n",
    "from scipy.stats import chisquare\n",
    "\n",
    "from branches import *\n",
    "from pandas_helpers import *"
   ]
  },
  {
   "cell_type": "code",
   "execution_count": 2,
   "metadata": {},
   "outputs": [],
   "source": [
    "PDG = {\n",
    "    \"muon\": [13, \"muon\", 0.105,],\n",
    "    \"proton\": [2212, \"proton\", 0.938272,], \n",
    "    \"neutron\": [2112, \"neutron\", 0.9395654,], \n",
    "    \"pizero\": [111, \"pizero\", 0.1349768], \n",
    "    \"piplus\": [211, \"piplus\", 0.13957039], \n",
    "    \"piminus\": [-211, \"piminus\", 0.13957039], \n",
    "    \"argon\": [1000180400, \"argon\", (18*0.938272 + 22*0.9395654)], \n",
    "    \"gamma\": [22, \"gamma\", 0 ], \n",
    "    \"lambda\": [3122, \"lambda\", 1.115683], \n",
    "    \"kaon_p\": [321, \"kaon_p\",  0.493677], \n",
    "    \"sigma_p\": [3222, \"sigma_p\", 1.18936], \n",
    "    \"kaon_0\": [311, \"kaon_0\", 0.497648], \n",
    "    \"sigma_0\": [3212, \"sigma_0\", 1.19246], \n",
    "    \"lambda_p_c\": [4122, \"lambda_p_c\", 2.28646], \n",
    "    \"sigma_pp_c\": [4222, \"sigma_pp_c\", 2.45397], \n",
    "    \"electron\": [11, \"electron\", 0.510998950], \n",
    "    \"sigma_p_c\": [4212, \"sigma_p_c\", 2.4529],\n",
    "}\n",
    "\n",
    "THRESHOLD = {\"muon\": 0.175, \"proton\": 0.3, \"proton_stub\": 0.2, \"picharged\": 0.07, \"pizero\":0}"
   ]
  },
  {
   "cell_type": "code",
   "execution_count": 3,
   "metadata": {},
   "outputs": [],
   "source": [
    "def InFV(data): # cm\n",
    "    xmin = -199.15 + 10\n",
    "    ymin = -200. + 10\n",
    "    zmin = 0.0 + 10\n",
    "    xmax = 199.15 - 10\n",
    "    ymax =  200. - 10\n",
    "    zmax =  500. - 50\n",
    "    return (data.x > xmin) & (data.x < xmax) & (data.y > ymin) & (data.y < ymax) & (data.z > zmin) & (data.z < zmax)\n",
    "\n",
    "def InBeam(t):\n",
    "    return (t > 0.) & (t < 1.800)\n",
    "\n",
    "def Avg(df, pid, drop_0=True):  # average score of 3 planes, exclude value if 0\n",
    "    if drop_0:\n",
    "        df = df.replace(0, np.nan)\n",
    "    average = df[[(\"chi2pid\", \"I0\", \"chi2_\"+pid), (\"chi2pid\", \"I1\", \"chi2_\"+pid), (\"chi2pid\", \"I2\", \"chi2_\"+pid)]].mean(skipna=drop_0, axis=1)\n",
    "    return average\n",
    "\n",
    "def Signal(df): # signal definition\n",
    "    is_fv = InFV(df.nu.position)\n",
    "    is_numu = (df.nu.pdg == 14)\n",
    "    is_cc = (df.nu.iscc == 1)\n",
    "    is_1p0pi = (df.mult_proton_def == 1) & (df.mult_picharged_def == 0) & (df.mult_pizero == 0)\n",
    "    return is_fv & is_numu & is_cc # & is_1p0pi"
   ]
  },
  {
   "cell_type": "code",
   "execution_count": 4,
   "metadata": {},
   "outputs": [],
   "source": [
    "filename = \"/exp/sbnd/data/users/munjung/SBND/2023B/cnnid/cnnid.flat.caf.root\"\n",
    "events = uproot.open(filename+\":recTree\")"
   ]
  },
  {
   "cell_type": "code",
   "execution_count": 5,
   "metadata": {},
   "outputs": [],
   "source": [
    "# MC truth\n",
    "nudf = loadbranches(events, mc_branches)\n",
    "nudf = nudf.rec.mc\n",
    "\n",
    "nuprimdf = loadbranches(events, mc_prim_branches)\n",
    "nuprimdf = nuprimdf.rec.mc.nu\n",
    "nuprimdf[(\"prim\",\"totp\",\"\")] = np.sqrt((nuprimdf.prim.startp.x)**2+(nuprimdf.prim.startp.y)**2+(nuprimdf.prim.startp.z)**2) # |momentum| branch\n",
    "\n",
    "# primary track multiplicity\n",
    "mult_muon = (nuprimdf.prim.pdg == 13).groupby(level=[0,1]).sum()\n",
    "mult_muon_def = ((nuprimdf.prim.pdg == 13) & (nuprimdf.prim.totp > THRESHOLD[\"muon\"])).groupby(level=[0,1]).sum()\n",
    "mult_proton = (nuprimdf.prim.pdg == 2212).groupby(level=[0,1]).sum()\n",
    "mult_proton_def = ((nuprimdf.prim.pdg == 2212) & (nuprimdf.prim.totp > THRESHOLD[\"proton\"])).groupby(level=[0,1]).sum()\n",
    "mult_proton_stub_def = ((nuprimdf.prim.pdg == 2212) & (nuprimdf.prim.totp > THRESHOLD[\"proton_stub\"])).groupby(level=[0,1]).sum()\n",
    "mult_picharged = (np.abs(nuprimdf.prim.pdg) == 211).groupby(level=[0,1]).sum()\n",
    "mult_picharged_def = ((np.abs(nuprimdf.prim.pdg) == 211) & (nuprimdf.prim.totp > THRESHOLD[\"picharged\"])).groupby(level=[0,1]).sum()\n",
    "mult_pizero = (np.abs(nuprimdf.prim.pdg) == 211).groupby(level=[0,1]).sum()\n",
    "mult_pizero_def = ((np.abs(nuprimdf.prim.pdg) == 111) & (nuprimdf.prim.totp > THRESHOLD[\"pizero\"])).groupby(level=[0,1]).sum()\n",
    "mult_electron = (nuprimdf.prim.pdg == 11).groupby(level=[0,1]).sum()\n",
    "mult_photon = (nuprimdf.prim.pdg == 22).groupby(level=[0,1]).sum()\n",
    "nudf['mult_muon'] = mult_muon\n",
    "nudf['mult_muon_def'] = mult_muon_def\n",
    "nudf['mult_proton'] = mult_proton\n",
    "nudf['mult_proton_def'] = mult_proton_def\n",
    "nudf['mult_proton_stub_def'] = mult_proton_stub_def\n",
    "nudf['mult_picharged'] = mult_picharged\n",
    "nudf['mult_picharged_def'] = mult_picharged_def\n",
    "nudf['mult_pizero'] = mult_pizero\n",
    "nudf['mult_pizero_def'] = mult_pizero_def\n",
    "nudf['mult_electron'] = mult_electron\n",
    "nudf['mult_photon'] = mult_photon"
   ]
  },
  {
   "cell_type": "code",
   "execution_count": 6,
   "metadata": {},
   "outputs": [],
   "source": [
    "# truth match\n",
    "slcdf = loadbranches(events, slc_branches)\n",
    "slcdf = slcdf.rec\n",
    "\n",
    "slcdf.loc[np.invert(slcdf[(\"slc\",\"tmatch\",\"eff\")] > 0.5) & (slcdf[(\"slc\",\"tmatch\",\"idx\")] >= 0), (\"slc\",\"tmatch\",\"idx\")] = np.nan\n",
    "slcdf[\"tmatch_index\"] = slcdf[(\"slc\", \"tmatch\", \"idx\")]\n",
    "matchdf = pd.merge(slcdf.reset_index(), \n",
    "                 nudf.reset_index(),\n",
    "                 left_on=[(\"entry\", \"\",\"\"), (\"slc\",\"tmatch\", \"idx\")], # entry index -> neutrino index\n",
    "                 right_on=[(\"entry\", \"\",\"\"), (\"rec.mc.nu..index\", \"\",\"\")], \n",
    "                 how=\"left\", # Keep every slc\n",
    "                 ) \n",
    "matchdf = matchdf.set_index([\"entry\", \"rec.slc..index\"], verify_integrity=True)\n",
    "\n",
    "# reco pfps\n",
    "pfptrkdf = loadbranches(events, pfp_trk_branches)\n",
    "pfptrkdf = pfptrkdf.rec.slc.reco.pfp\n",
    "pfptrkchi2df = loadbranches(events, pfp_trk_chi2_branches)\n",
    "pfptrkchi2df = pfptrkchi2df.rec.slc.reco.pfp.trk\n",
    "pfptrkdf = pfptrkdf.join(pfptrkchi2df)\n",
    "\n",
    "pfptruthdf = loadbranches(events, pfp_trk_mc_branches)\n",
    "pfptruthdf = pfptruthdf.rec.slc.reco.pfp.trk.truth\n",
    "pfpdf = pd.merge(pfptrkdf, pfptruthdf, left_index=True, right_index=True, how=\"inner\")\n",
    "\n",
    "pandoradf = loadbranches(events, pandora_branches)\n",
    "pandoradf = pandoradf.rec.slc\n",
    "cnniddf = loadbranches(events, cnn_branches)\n",
    "cnniddf = cnniddf.rec.slc.reco\n",
    "scoresdf = pd.merge(pandoradf, cnniddf, left_index=True, right_index=True, how=\"inner\")\n",
    "pfpdf = pd.merge(pfpdf, scoresdf, left_index=True, right_index=True, how=\"inner\")\n",
    "\n",
    "# merge all\n",
    "masterdf = pd.merge(matchdf, pfpdf, left_index=True, right_index=True, how=\"inner\")"
   ]
  },
  {
   "cell_type": "code",
   "execution_count": 7,
   "metadata": {},
   "outputs": [
    {
     "data": {
      "image/png": "[encoded data removed]",
      "text/plain": [
       "<Figure size 432x288 with 1 Axes>"
      ]
     },
     "metadata": {
      "needs_background": "light"
     },
     "output_type": "display_data"
    }
   ],
   "source": [
    "# truth match efficiency\n",
    "nu_idx = matchdf.reset_index().set_index([\"entry\", \"rec.mc.nu..index\"]).index.unique()\n",
    "nu_idx = [idx for idx in nu_idx if not math.isnan(idx[1])]\n",
    "nudf_tmatched = nudf.loc[nu_idx]\n",
    "var = [nudf[Signal(nudf)].nu.E, nudf_tmatched[Signal(nudf_tmatched)].nu.E]\n",
    "plt.hist(var, bins=np.linspace(0,3,21), histtype=\"step\", label=[\"all\", \"truth matched\"])\n",
    "plt.xlabel(\"True Neutrino Energy [GeV]\")\n",
    "plt.legend()\n",
    "plt.show();"
   ]
  },
  {
   "cell_type": "markdown",
   "metadata": {},
   "source": [
    "## Event Selection"
   ]
  },
  {
   "cell_type": "code",
   "execution_count": 8,
   "metadata": {},
   "outputs": [],
   "source": [
    "# reco vertex in FV\n",
    "cut = InFV(masterdf.slc.vertex)\n",
    "df_vertexcut = masterdf[cut]"
   ]
  },
  {
   "cell_type": "code",
   "execution_count": 9,
   "metadata": {},
   "outputs": [],
   "source": [
    "# cosmic rejection\n",
    "cut_nuscore = (df_vertexcut.slc.nu_score.squeeze() > 0.4)\n",
    "cut_fmatch = ((df_vertexcut.slc.fmatch.score < 7.0) & (InBeam(df_vertexcut.slc.fmatch.time)))\n",
    "df_cosmiccut = df_vertexcut[cut_nuscore & cut_fmatch]"
   ]
  },
  {
   "cell_type": "code",
   "execution_count": 10,
   "metadata": {},
   "outputs": [],
   "source": [
    "# 1 muon\n",
    "MUCUT_MUSCORE_THRES = 30\n",
    "MUCUT_PSCORE_THRES = 60\n",
    "MUCUT_LEN_THRES = 50\n",
    "cut_pidscore = (Avg(df_cosmiccut, \"muon\", drop_0=True) < MUCUT_MUSCORE_THRES) & (Avg(df_cosmiccut, \"proton\", drop_0=True) > MUCUT_PSCORE_THRES)\n",
    "cut_len = (df_cosmiccut.trk.len > MUCUT_LEN_THRES)\n",
    "primary_muons = df_cosmiccut[cut_pidscore & cut_len]\n",
    "primary_muons = primary_muons.sort_values([\"entry\", \"rec.slc..index\", (\"trk\",\"len\",\"\")], ascending=[True, True, False])\n",
    "leading_muon = primary_muons.groupby([\"entry\", \"rec.slc..index\"]).head(1) \n",
    "\n",
    "slc_idx_1mu = leading_muon.reset_index().set_index([\"entry\", \"rec.slc..index\"]).index.unique()\n",
    "df_1mucut = df_cosmiccut.reset_index().set_index([\"entry\", \"rec.slc..index\"]).loc[slc_idx_1mu]\n",
    "df_1mucut = df_1mucut.reset_index().set_index([\"entry\", \"rec.slc..index\", \"rec.slc.reco.pfp..index\"], verify_integrity=True)"
   ]
  },
  {
   "cell_type": "code",
   "execution_count": 11,
   "metadata": {},
   "outputs": [
    {
     "data": {
      "image/png": "[encoded data removed]",
      "text/plain": [
       "<Figure size 432x288 with 1 Axes>"
      ]
     },
     "metadata": {
      "needs_background": "light"
     },
     "output_type": "display_data"
    },
    {
     "data": {
      "image/png": "[encoded data removed]",
      "text/plain": [
       "<Figure size 432x288 with 1 Axes>"
      ]
     },
     "metadata": {
      "needs_background": "light"
     },
     "output_type": "display_data"
    }
   ],
   "source": [
    "var = leading_muon.trk.rangeP.p_muon\n",
    "plt.hist(var, bins=np.linspace(0,2,21))\n",
    "plt.xlabel(\"Reconstructed Muon Momentum [GeV/c]\")\n",
    "plt.show();\n",
    "\n",
    "var = leading_muon.trk.dir.z\n",
    "plt.hist(var, bins=np.linspace(-1,1,21))\n",
    "plt.xlabel(\"Reconstructed Muon z Direction\")\n",
    "plt.show();"
   ]
  },
  {
   "cell_type": "code",
   "execution_count": 12,
   "metadata": {},
   "outputs": [
    {
     "data": {
      "image/png": "[encoded data removed]",
      "text/plain": [
       "<Figure size 432x288 with 1 Axes>"
      ]
     },
     "metadata": {
      "needs_background": "light"
     },
     "output_type": "display_data"
    }
   ],
   "source": [
    "# efficiency\n",
    "nu_idx = df_vertexcut.reset_index().set_index([\"entry\", \"rec.mc.nu..index\"]).index.unique()\n",
    "nu_idx = [idx for idx in nu_idx if not math.isnan(idx[1])]\n",
    "nudf_vertexcut = nudf.loc[nu_idx]\n",
    "\n",
    "nu_idx = df_cosmiccut.reset_index().set_index([\"entry\", \"rec.mc.nu..index\"]).index.unique()\n",
    "nu_idx = [idx for idx in nu_idx if not math.isnan(idx[1])]\n",
    "nudf_cosmiccut = nudf.loc[nu_idx]\n",
    "\n",
    "nu_idx = df_1mucut.reset_index().set_index([\"entry\", \"rec.mc.nu..index\"]).index.unique()\n",
    "nu_idx = [idx for idx in nu_idx if not math.isnan(idx[1])]\n",
    "nudf_1mucut = nudf.loc[nu_idx]\n",
    "\n",
    "var = [nudf[Signal(nudf)].nu.E, \n",
    "       nudf_tmatched[Signal(nudf_tmatched)].nu.E,\n",
    "       nudf_vertexcut[Signal(nudf_vertexcut)].nu.E,\n",
    "       nudf_cosmiccut[Signal(nudf_cosmiccut)].nu.E,\n",
    "       nudf_1mucut[Signal(nudf_1mucut)].nu.E]\n",
    "n, bins, _ = plt.hist(var, bins=np.linspace(0,3,21), histtype=\"step\", \n",
    "                      label=[\"all\", \"truth matched\", \"vertex in FV\", \"cosmic rejection\", \"1 muon\"])\n",
    "plt.xlabel(\"True Neutrino Energy [GeV]\")\n",
    "plt.legend()\n",
    "plt.show();"
   ]
  },
  {
   "cell_type": "code",
   "execution_count": 13,
   "metadata": {},
   "outputs": [
    {
     "data": {
      "image/png": "[encoded data removed]",
      "text/plain": [
       "<Figure size 432x288 with 1 Axes>"
      ]
     },
     "metadata": {
      "needs_background": "light"
     },
     "output_type": "display_data"
    }
   ],
   "source": [
    "# selected true neutrino events interaction breakdown\n",
    "mode_list = [0, 10, 1, 2, 3]\n",
    "mode_labels = ['QE', 'MEC', 'RES', 'SIS/DIS', 'COH']\n",
    "var = [nudf_1mucut[nudf_1mucut.nu.genie_mode == mode].nu.E for mode in mode_list]\n",
    "plt.hist(var, bins=np.linspace(0,3,21), stacked=True, label=mode_labels)\n",
    "plt.xlabel(\"True Neutrino Energy [GeV]\")\n",
    "plt.legend()\n",
    "plt.show();"
   ]
  },
  {
   "cell_type": "code",
   "execution_count": null,
   "metadata": {},
   "outputs": [],
   "source": []
  }
 ],
 "metadata": {
  "kernelspec": {
   "display_name": "env",
   "language": "python",
   "name": "python3"
  },
  "language_info": {
   "codemirror_mode": {
    "name": "ipython",
    "version": 3
   },
   "file_extension": ".py",
   "mimetype": "text/x-python",
   "name": "python",
   "nbconvert_exporter": "python",
   "pygments_lexer": "ipython3",
   "version": "3.6.8"
  }
 },
 "nbformat": 4,
 "nbformat_minor": 2
}
